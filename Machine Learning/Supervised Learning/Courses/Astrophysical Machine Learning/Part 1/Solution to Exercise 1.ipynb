{
 "cells": [
  {
   "cell_type": "markdown",
   "metadata": {},
   "source": [
    "# Solution Code #\n",
    "\n",
    "An example of my code for this exercise is here."
   ]
  },
  {
   "cell_type": "code",
   "execution_count": 1,
   "metadata": {},
   "outputs": [
    {
     "name": "stdout",
     "output_type": "stream",
     "text": [
      "[ 0.09003057  0.66524096  0.24472847]\n",
      "[[ 2.  2.  2.  2.]\n",
      " [ 1.  1.  1.  1.]\n",
      " [ 1.  1.  1.  1.]]\n",
      "[[ 0.57611688  0.57611688  0.57611688  0.57611688]\n",
      " [ 0.21194156  0.21194156  0.21194156  0.21194156]\n",
      " [ 0.21194156  0.21194156  0.21194156  0.21194156]]\n",
      "[1 0 1 0]\n",
      "[[ 2.  2.  2.  2.]\n",
      " [ 1.  1.  1.  1.]\n",
      " [ 1.  1.  1.  1.]]\n",
      "[1 1 2]\n",
      "[ 0.66524096  0.09003057  0.24472847]\n",
      "[ 0.66524096  0.09003057  0.24472847]\n"
     ]
    }
   ],
   "source": [
    "import numpy as np\n",
    "\n",
    "# Define a softmax function\n",
    "def softmax(x):\n",
    "    p=np.exp(x)/np.sum(np.exp(x),axis=0) \n",
    "    return p\n",
    "\n",
    "# Define a linearClassifier\n",
    "def linearClassifier(x,W,b):\n",
    "    # The np.dot() is needed for the matrix product\n",
    "    # of the weights and feature vector\n",
    "    return softmax(np.dot(W,x)+b)\n",
    "\n",
    "# Test softmax() out on a vector\n",
    "test=[1,3,2]\n",
    "print(softmax(test))\n",
    "\n",
    "# Again on a matrix\n",
    "test=np.ones((3,4))\n",
    "test[0,:]=2.\n",
    "print(test)\n",
    "print(softmax(test))\n",
    "\n",
    "# Test linearClassifier out on an array\n",
    "W=np.ones((3,4))\n",
    "W[0,:]=2.\n",
    "x=np.asarray([1,0,1,0])\n",
    "b=np.asarray([1,1,2])\n",
    "print(x)\n",
    "print(W)\n",
    "print(b)\n",
    "print(linearClassifier(x,W,b))\n",
    "\n",
    "# Define a class\n",
    "# ---------------------------\n",
    "class linearClassifier:\n",
    "        def __init__(self, W, b):\n",
    "                self.W = W\n",
    "                self.b = b\n",
    "\n",
    "        def predict(self,x):\n",
    "                W = self.W\n",
    "                b = self.b\n",
    "                return softmax(np.dot(W,x)+b)\n",
    "\n",
    "myLC=linearClassifier(W,b)\n",
    "print(myLC.predict(x))"
   ]
  }
 ],
 "metadata": {
  "kernelspec": {
   "display_name": "Python 3",
   "language": "python",
   "name": "python3"
  },
  "language_info": {
   "codemirror_mode": {
    "name": "ipython",
    "version": 3
   },
   "file_extension": ".py",
   "mimetype": "text/x-python",
   "name": "python",
   "nbconvert_exporter": "python",
   "pygments_lexer": "ipython3",
   "version": "3.4.2"
  }
 },
 "nbformat": 4,
 "nbformat_minor": 2
}
