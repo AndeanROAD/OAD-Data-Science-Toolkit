{
 "cells": [
  {
   "cell_type": "markdown",
   "metadata": {},
   "source": [
    "# Exercise 1\n",
    "\n",
    "The purpose of this exercise is to familiarize yourself with the Python programing language.\n",
    "\n",
    "1: INSTALL – The first step is to install Python on your computer. If you’re using a mac, it’s already on there. You can just open a terminal (go to Applications/Utilities to find it)  and type python and it should open an interactive python session. If you’re not using a mac, you’ll need to go here and follow the instructions for downloading. I’m using the 2.7 version of python, which should be good for our needs.\n",
    "\n",
    "2: WARM UP – If you’re new to python (or programing), then I suggest you start here to get some background on what python is capable of.  The official python page has its own tutorial as well, but it’s pretty long with lots of text. Don’t worry about learning everything now, just explore.\n",
    "\n",
    "3: NUMPY – This is where you start to learn the core of python’s mathematical routines. Numpy is the main package for scientific computing, and is the building block of just about everything we’ll do in this course. Go through a bit of the quick-start tutorial to get used to the indexing of the arrays (vectors, matrices, tensors). Here is a short reference guide to linear algebra, which will help because much of machine-learning (and most of scientific mathematics!) is linear algebra. Let me know if you need me to help out.\n",
    "\n",
    "4: ASSIGNMENT Part 1 – Write a python script and save it in a text file called firstname_lastname_softmax.py (substituting your names of course). The script should contain a function at the top called $softmax()$ that takes as an input a 1-dimensional array (vector) of any length and computes the function\n",
    "\n",
    "$$softmax(x^i)= \\frac{e^{x^i}}{\\Sigma_{j} e^{x^j}}$$\n",
    "\n",
    "where $x^i$ is the value of the i’th component of the array. This turns the elements of an array into a kind of probability, where the values of the elements sum to 1. Right after your function in the script, check that it works by trying it out on an array. The script should look something like:"
   ]
  },
  {
   "cell_type": "code",
   "execution_count": 10,
   "metadata": {},
   "outputs": [
    {
     "name": "stdout",
     "output_type": "stream",
     "text": [
      "This is only psudo code.\n",
      "You will have to write this function yourself!\n"
     ]
    }
   ],
   "source": [
    "import numpy as np\n",
    "\n",
    "# Define your function\n",
    "def softmax(x):\n",
    "    # This is where you write your code!\n",
    "    vector = \"This is only psudo code.\\nYou will have to write this function yourself!\"\n",
    "    return vector # Replace this with the new array\n",
    "\n",
    "# Test it out on an array\n",
    "test=[1,3,2]\n",
    "print(softmax(test))\n",
    "# The result should be [0.09003057 0.66524096 0.24472847]"
   ]
  },
  {
   "cell_type": "markdown",
   "metadata": {},
   "source": [
    "5: ASSIGNMENT Part 2 – Now that you’ve got that down, modify the same script so that your function can take any two dimensional matrix and compute the $softmax()$ of every column (each column is its own unique independent array that your taking the $softmax()$ of). The solution is simple in numpy, and it has to do with how you take the sum in the denominator. Test it out on a sample array. It should look like:"
   ]
  },
  {
   "cell_type": "code",
   "execution_count": 9,
   "metadata": {},
   "outputs": [
    {
     "name": "stdout",
     "output_type": "stream",
     "text": [
      "[[ 2.  2.  2.  2.]\n",
      " [ 1.  1.  1.  1.]\n",
      " [ 1.  1.  1.  1.]]\n",
      "This is only psudo code.\n",
      "You will have to write this function yourself!\n"
     ]
    }
   ],
   "source": [
    "import numpy as np\n",
    "\n",
    "# Define your function\n",
    "def softmax(x):\n",
    "    # This is where you write your code!\n",
    "    vector = \"This is only psudo code.\\nYou will have to write this function yourself!\"\n",
    "    return vector # Replace this with the new array\n",
    "\n",
    "# Test it out on an array\n",
    "test=np.ones((3,4))\n",
    "test[0,:]=2.\n",
    "print(test)\n",
    "print(softmax(test))\n",
    "# The result should be [[ 2.  2.  2.  2.]\n",
    "#                       [ 1.  1.  1.  1.]\n",
    "#                       [ 1.  1.  1.  1.]]\n",
    "# [[ 0.57611688  0.57611688  0.57611688  0.57611688]\n",
    "#  [ 0.21194156  0.21194156  0.21194156  0.21194156]\n",
    "#  [ 0.21194156  0.21194156  0.21194156  0.21194156]]"
   ]
  },
  {
   "cell_type": "markdown",
   "metadata": {},
   "source": [
    "6: ASSIGNMENT Part 3 – Now you are going to write another function called linearClassifier(). This function will take three inputs, $x$, $W$, and $b$. The input $x$ is a one-dimensional array which we will call our feature vector, $W$ is a two-dimensional array of weights, and $b$ is a one-dimensional bias array. These names may sound strange now, but they’ll come back later. The function should take these values and return the value of $softmax(Wx+b)$. It’s important that $b$ is the same size as the number of rows in $W$, and $x$ must be the same size as the number of columns in $W$.  The $softmax()$ will then turn the result into an array of probabilities the same size as $b$.\n",
    "\n",
    "After you write this function, make up your own values for $x$, $W$ and $b$ and test out the function. To get full points, $W$ can’t be a square matrix (e.g., try a 3×4 matrix).\n",
    "\n",
    "ADVANCED (optional): If this is all too easy and you’re bored, write a class for the linearClassifier(), where the above code is one of the methods (like .evaluate() or something), and where the weights $W$ and bias $b$ are stored as attributes that can be called and updated by appropriate methods."
   ]
  }
 ],
 "metadata": {
  "kernelspec": {
   "display_name": "Python 3",
   "language": "python",
   "name": "python3"
  },
  "language_info": {
   "codemirror_mode": {
    "name": "ipython",
    "version": 3
   },
   "file_extension": ".py",
   "mimetype": "text/x-python",
   "name": "python",
   "nbconvert_exporter": "python",
   "pygments_lexer": "ipython3",
   "version": "3.4.2"
  }
 },
 "nbformat": 4,
 "nbformat_minor": 2
}
