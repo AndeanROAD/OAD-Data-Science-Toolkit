{
 "cells": [
  {
   "cell_type": "markdown",
   "metadata": {},
   "source": [
    "# Exercise 3\n",
    "\n",
    "We're going to switch gears a little and talk about the astrophysical part of Astrophysical Machine Learning. This exercise will have you examine two different forms of data. The first is an actual image of the sky, and the second a catalog of sources (galaxies).\n",
    "\n",
    "PART I: Astronomical images (and catalogs for the that matter) are most often stored in FITS format, which stands for [Flexible Image Transport System](https://en.wikipedia.org/wiki/FITS). There are several programs for opening and examining FITS images. Probably the easiest one to install would be the [SAOImage DS9 Astronomical Data Visualization Application](http://ds9.si.edu/site/Download.html). I recommend installing DS9 on your system.   For this part of the exercise, download this image of a region of the sky (near the Coma cluster). For this, you can use the [SkyView](http://skyview.gsfc.nasa.gov/current/cgi/query.pl) virtual observatory page. Go to the page and enter \"coma cluster\" in the “Coordinates or Source” field, then under the Optical:DSS: section select the \"DSS1 Red\" and press submit. This should open another page which has an image that looks like this:\n",
    "\n",
    "![title](img/coma_red.png)"
   ]
  },
  {
   "cell_type": "markdown",
   "metadata": {},
   "source": [
    "Download the FITS file associated with the image (it should say “FITS” below the image) and save it in your working python directory. For the following exercise, you will need to have the [Astopy](http://www.astropy.org/) package installed.\n",
    "\n",
    "MEDIAN, MEAN, MAX AND MIN: A common way to manipulate an image in order to highlight features that might not be obvious at first glance, is to modify the pixel values by applying a filter-function to the image. The way these filter-functions are applied is to replace the value of each pixel by another value that is related in some way to the values of surrounding pixels. For example, a $maxFilter()$ function might replace each pixel value by the maximum pixel value in a 3×3 or 5×5 box surrounding the pixel (the pixel itself is also included). A minFilter() would do the same thing, except replace each pixel by the minimum value in the box. For this part of the exercise, you must:\n",
    "\n",
    "A) Start a python script labeled image_filters.py. This script should contain four functions for computing a $medianFilter()$, $meanFilter()$, $maxFilter()$, and $minFilter()$ of an input image. For now, make the filter size 5×5 pixels, and ignore the edge of the image where the filter would run over the edge.\n",
    "\n",
    "B) After the functions, read in the FITS file that you got above into an array. This can be done by using astropy like so:"
   ]
  },
  {
   "cell_type": "code",
   "execution_count": null,
   "metadata": {
    "collapsed": true
   },
   "outputs": [],
   "source": [
    "from astropy.io import fits as fits\n",
    "\n",
    "fitsimage=fits.open('filename.fits')\n",
    "image=np.flipud(fitsimage[0].data)"
   ]
  },
  {
   "cell_type": "markdown",
   "metadata": {},
   "source": [
    "Now the image is just a numpy array (matrix) that can be indexed like any other array. The np.flipup function (\"flip up-down\") was used so that when you display the array it will have the same orientation as when you look at the fits image with DS9. Once you read in the image, apply each filter to the image and display the image. To display, you will need to use the (matplotlib)[http://matplotlib.org/index.html] module. For example, to display the image above, you could use:"
   ]
  },
  {
   "cell_type": "code",
   "execution_count": null,
   "metadata": {
    "collapsed": true
   },
   "outputs": [],
   "source": [
    "import matplotlib.pyplot as plt\n",
    "plt.imshow(image)\n",
    "plt.show()"
   ]
  },
  {
   "cell_type": "markdown",
   "metadata": {},
   "source": [
    "C) BONUS I: Modify your functions so that they include a variable filter size\n",
    "\n",
    "D) BONUS II: Further modify your functions to include the edges by either assuming pixel values outside the image are zeros, or just include the part of the box that is inside the image boundary.\n",
    "\n",
    "### Solution:\n",
    "\n",
    "You can check out my version of these functions [here](https://github.com/sheabrown/ImageFilters) (they don’t include Bonus II, so you’ve still got something to strive for!)."
   ]
  }
 ],
 "metadata": {
  "kernelspec": {
   "display_name": "Python 3",
   "language": "python",
   "name": "python3"
  },
  "language_info": {
   "codemirror_mode": {
    "name": "ipython",
    "version": 3
   },
   "file_extension": ".py",
   "mimetype": "text/x-python",
   "name": "python",
   "nbconvert_exporter": "python",
   "pygments_lexer": "ipython3",
   "version": "3.4.2"
  }
 },
 "nbformat": 4,
 "nbformat_minor": 2
}
