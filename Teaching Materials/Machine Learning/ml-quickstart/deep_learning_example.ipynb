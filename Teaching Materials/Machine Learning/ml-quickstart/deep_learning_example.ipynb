{
 "cells": [
  {
   "cell_type": "markdown",
   "metadata": {},
   "source": [
    "# Deep Learning Example with Keras"
   ]
  },
  {
   "cell_type": "markdown",
   "metadata": {},
   "source": [
    "<i>Michelle Lochner</i>"
   ]
  },
  {
   "cell_type": "markdown",
   "metadata": {},
   "source": [
    "<i>(With lots of help from Boris Leistedt, Gilles Louppe and Christopher Bonnett)</i>"
   ]
  },
  {
   "cell_type": "markdown",
   "metadata": {},
   "source": [
    "This notebook illustrates how to use Keras (http://keras.io/) to create your own convolutional neural network (CNN) to run on your own dataset. \n",
    "\n",
    "This is taken from one of the Keras examples (https://github.com/fchollet/keras/blob/master/examples/mnist_cnn.py), with some added visualisation from https://github.com/julienr/ipynb_playground/blob/master/keras/convmnist/keras_cnn_mnist.ipynb."
   ]
  },
  {
   "cell_type": "markdown",
   "metadata": {},
   "source": [
    "### A super brief introduction to CNNs"
   ]
  },
  {
   "cell_type": "markdown",
   "metadata": {},
   "source": [
    "<b>Disclaimer</b>: I am not in any way an expert on deep learning or even on basic neural networks. None of the information below is guaranteed to be accurate. I will just add practical points, that I have figured out, to better understand how to make this algorithm work for your data."
   ]
  },
  {
   "cell_type": "markdown",
   "metadata": {},
   "source": [
    "These Stanford course notes http://cs231n.github.io/convolutional-networks/ are amazing, it doesn't take long to go through them and get a pretty good understanding of CNNs (and other neural nets too). I'll add a couple of images with descriptions from those notes to give you an idea of CNNs. Another really well-written resource is http://colah.github.io/posts/2014-07-Conv-Nets-Modular/."
   ]
  },
  {
   "cell_type": "markdown",
   "metadata": {},
   "source": [
    "<b>Structure of neural networks</b>"
   ]
  },
  {
   "cell_type": "markdown",
   "metadata": {},
   "source": [
    "This is the basic structure of any neural network, which were invented to attempt to emulate the connections found in the brain. Essentially it learns a non-linear transformation which converts input to output. Like any machine learning algorithm, you train it on some training data with known output. The hidden layers are made up of \"neurons\", which connect to every feature of the input, performing said non-linear transforms. Each neuron has a weight and these are learned from training data. "
   ]
  },
  {
   "cell_type": "markdown",
   "metadata": {},
   "source": [
    "<img src=\"neural_net2.jpeg\",width=400>"
   ]
  },
  {
   "cell_type": "markdown",
   "metadata": {},
   "source": [
    "<b>What makes convolutional neural networks different?</b>\n",
    "\n",
    "It's usually quite rare to get much benefit from making neural networks more than one or two layers deep. CNNs are different because they can be dozens or even hundreds of layers deep.\n",
    "\n",
    "CNNs are truly designed to work with images, it's built into their architecture (although it is possible to use them successfully on other types of features). Neurons (which actually tend to be called nodes or filters in CNN literature) now have volume instead of just being points. This is because they are designed to look at small pieces of the input image (this division of labour makes it possible to go so deep) within their little volume, called a \"receptive field\"."
   ]
  },
  {
   "cell_type": "markdown",
   "metadata": {},
   "source": [
    "<img src=\"neural_net2a.jpeg\">"
   ]
  },
  {
   "cell_type": "markdown",
   "metadata": {},
   "source": [
    "The \"convolution\" part of convolutional neural networks refers to a particular type of layer, a convolutional layer, which is made up of filters that, when training, <i>slide</i> around the image, filtering bits of it (which is a convolution in effect) to see what filters get activated by what parts of the image."
   ]
  },
  {
   "cell_type": "markdown",
   "metadata": {},
   "source": [
    "The last thing I'll talk about is the fact that CNNs are not purely made of convolutional layers. There are several types, the most common of which are: fully connected or dense layers (\"standard\" neural network layers), convolutional layers, activation layers (which does the \"what filters are activated by what\" bit) such as \"ReLu\" layer, pooling layers (pool filters from previous layers and downsample) and dropout layers (which drop some of the weights to prevent overfitting). The best thing is to read the notes on these things. The most difficult part of deep learning is figuring out what combinations of layers to use, as there aren't any hard and fast rules. Here's an example network architecture:"
   ]
  },
  {
   "cell_type": "markdown",
   "metadata": {},
   "source": [
    "<img src=\"convnet.jpeg\",width=600>"
   ]
  },
  {
   "cell_type": "markdown",
   "metadata": {},
   "source": [
    "## Using Keras to build a CNN for the MNIST dataset"
   ]
  },
  {
   "cell_type": "markdown",
   "metadata": {},
   "source": [
    "We'll now build a CNN for the standard MNIST dataset, which is a dataset of thousands of small images of hand-written digits. The network will learn (very effectively) how to do handwriting recognition on these digits."
   ]
  },
  {
   "cell_type": "markdown",
   "metadata": {},
   "source": [
    "Note: Keras will run much faster if you install with an nvidia GPU.\n",
    "\n",
    "Note2: There are several packages for deep learning, all based on theano and hence all with similar performance. nolearn (https://github.com/dnouri/nolearn) actually seems to have better documentation so may be better to use than Keras."
   ]
  },
  {
   "cell_type": "code",
   "execution_count": 1,
   "metadata": {
    "collapsed": true
   },
   "outputs": [],
   "source": [
    "%matplotlib inline"
   ]
  },
  {
   "cell_type": "code",
   "execution_count": 1,
   "metadata": {
    "collapsed": true
   },
   "outputs": [],
   "source": [
    "from __future__ import absolute_import\n",
    "from __future__ import print_function\n",
    "import numpy as np\n",
    "np.random.seed(1337)  # for reproducibility\n",
    "import matplotlib.pyplot as plt\n",
    "\n",
    "from keras.datasets import mnist\n",
    "from keras.models import Sequential\n",
    "from keras.layers.core import Dense, Dropout, Activation, Flatten\n",
    "from keras.layers.convolutional import Convolution2D, MaxPooling2D\n",
    "from keras.utils import np_utils\n",
    "\n",
    "import theano"
   ]
  },
  {
   "cell_type": "markdown",
   "metadata": {},
   "source": [
    "Load the data and split into a training dataset and a test dataset for validation."
   ]
  },
  {
   "cell_type": "code",
   "execution_count": 2,
   "metadata": {
    "collapsed": false
   },
   "outputs": [
    {
     "name": "stdout",
     "output_type": "stream",
     "text": [
      "10000 training samples\n",
      "2000 test samples\n"
     ]
    }
   ],
   "source": [
    "nb_classes = 10 #The number of classes in your classification problem\n",
    "# shape of the image (SHAPE x SHAPE)\n",
    "shapex, shapey = 28, 28\n",
    "\n",
    "# the data, shuffled and split between tran and test sets\n",
    "(X_train, y_train), (X_test, y_test) = mnist.load_data()\n",
    "\n",
    "#Reduce the size of the dataset, in the interest of speed.\n",
    "ndat=10000\n",
    "ntest=2000\n",
    "X_train=X_train[:ndat]\n",
    "Y_train=y_train[:ndat]\n",
    "X_test=X_test[:ntest]\n",
    "Y_test=y_test[:ntest]\n",
    "\n",
    "#We do this reshaping because the CNN is always built to accept 3d arrays, usually the 2d array of an image \n",
    "#in 3 different colours (RGB). If you use something that isn't an image, you'll still have to reshape \n",
    "#each object's features to a 3d array\n",
    "X_train = X_train.reshape(X_train.shape[0], 1, X_train.shape[1], X_train.shape[2])\n",
    "X_test = X_test.reshape(X_test.shape[0], 1, X_test.shape[1], X_test.shape[2])\n",
    "X_train = X_train.astype(\"float32\")\n",
    "X_test = X_test.astype(\"float32\")\n",
    "\n",
    "#It's important to normalise images when passing them to a CNN. You want all your features to be normalised to 1.\n",
    "X_train /= 255\n",
    "X_test /= 255\n",
    "\n",
    "# convert class vectors to binary class matrices\n",
    "Y_train = np_utils.to_categorical(Y_train, nb_classes)\n",
    "Y_test = np_utils.to_categorical(Y_test, nb_classes)\n",
    "\n",
    "print(X_train.shape[0], 'training samples')\n",
    "print(X_test.shape[0], 'test samples')"
   ]
  },
  {
   "cell_type": "code",
   "execution_count": 3,
   "metadata": {
    "collapsed": false
   },
   "outputs": [
    {
     "data": {
      "text/plain": [
       "<matplotlib.image.AxesImage at 0x7fed4472a490>"
      ]
     },
     "execution_count": 3,
     "metadata": {},
     "output_type": "execute_result"
    }
   ],
   "source": [
    "#An example image. Later we'll see how the network is activated when it sees this image.\n",
    "ind=0\n",
    "plt.imshow(X_test[ind][0],cmap='gray')"
   ]
  },
  {
   "cell_type": "markdown",
   "metadata": {},
   "source": [
    "<b>The CNN architecture</b>"
   ]
  },
  {
   "cell_type": "code",
   "execution_count": 4,
   "metadata": {
    "collapsed": true
   },
   "outputs": [],
   "source": [
    "#The network performs an optimisation to minimise the difference between the input \"true\" classes and the output\n",
    "#prediction. Batching splits up the input dataset so it only performs the optimisation on a (different) subset \n",
    "#of images each iteration. Reducing the batch_size greatly increases speed, at the cost of (some) accuracy\n",
    "batch_size = 128 \n",
    "nb_epoch = 10 #How many iterations to go through training the network. May need to be much larger for complex problems\n",
    "\n",
    "# number of convolutional filters to use. Increasing this can improve accuracy. You can also try different numbers\n",
    "# of filters for each layer, generally increasing the number as you go deeper.\n",
    "nb_filters = 32\n",
    "# level of pooling to perform (POOL x POOL). Very little reason to change this from 2.\n",
    "nb_pool = 2\n",
    "# level of convolution to perform (CONV x CONV). This is the receptive field size. (3x3) is the standard you should\n",
    "# probably stick to\n",
    "nb_conv = 3"
   ]
  },
  {
   "cell_type": "markdown",
   "metadata": {},
   "source": [
    "<b>Network architecture</b>\n",
    "\n",
    "We add two convolution layers, both activated with a standard activation layer, followed by pooling and some dropout to reduce overfitting.\n",
    "\n",
    "If you get weird theano errors about array shapes mismatching, you probably put in some input dimensions wrong.\n",
    "Convolution2D assumes the input (which is implied here) is of the shape:\n",
    " (nb_samples, stack_size, nb_row, nb_col)\n",
    "nb_row and nb_col will usually be 3. nb_samples is just the number of samples which doesn't change. The stack_size <i>starts</i> as the third dimension size of your images (3 for RGB images, 1 for here) but <i>after</i> the convolutional layer, the stack_size will be the same as nb_filters so you need to update the stack_size parameter of the next layer accordingly. Also, the size of the dense layer has to be the total number of parameters in the network (which is quite large but smaller after pooling), hence the equation in the Dense layer.\n",
    "\n",
    "The final \"softmax\" activation layer is what brings all the filters together to get a final classification, hence its output dimensions will always be the number of classes.\n",
    "\n",
    "When compiling the model, you have to choose a loss function (usually categorical_crossentropy for classification, mean_squared_error for regression) and an optimizer, for which adadelta or adagrad work quite well."
   ]
  },
  {
   "cell_type": "code",
   "execution_count": 5,
   "metadata": {
    "collapsed": false
   },
   "outputs": [],
   "source": [
    "#Now we build the actual model. We use the sequential model builder because I have no idea how the graph builder works\n",
    "model = Sequential()\n",
    "\n",
    "\n",
    "model.add(Convolution2D(nb_filters, 1, nb_conv, nb_conv, border_mode='full'))\n",
    "model.add(Activation('relu'))\n",
    "model.add(Convolution2D(nb_filters, nb_filters, nb_conv, nb_conv))\n",
    "convout1=Activation('relu') #We need this for later visualisation\n",
    "model.add(convout1)\n",
    "model.add(MaxPooling2D(poolsize=(nb_pool, nb_pool)))\n",
    "model.add(Dropout(0.25))\n",
    "\n",
    "model.add(Flatten())\n",
    "# the resulting image after conv and pooling is the original shape\n",
    "# divided by the pooling with a number of filters for each \"pixel\"\n",
    "# (the number of filters is determined by the last Conv2D)\n",
    "model.add(Dense(nb_filters * (shapex / nb_pool) * (shapey / nb_pool), 128))\n",
    "model.add(Activation('relu'))\n",
    "model.add(Dropout(0.5))\n",
    "\n",
    "model.add(Dense(128, nb_classes))\n",
    "model.add(Activation('softmax'))\n",
    "\n",
    "model.compile(loss='categorical_crossentropy', optimizer='adadelta')"
   ]
  },
  {
   "cell_type": "code",
   "execution_count": null,
   "metadata": {
    "collapsed": true
   },
   "outputs": [],
   "source": [
    "print(model.config) #This lets us look at the configuration of the architecture"
   ]
  },
  {
   "cell_type": "markdown",
   "metadata": {
    "collapsed": true
   },
   "source": [
    "<b>Training the model</b>\n",
    "\n",
    "This can take quite a long time (even for the reduced dataset). As the network runs, it will print the loss function value (which should keep going down) and the accuracy for the training set. It will also then validate on the validation set after each epoch and print the loss and accuracy there. If the training accuracy is much higher than the validation accuracy, you are overfitting. To reduce overfitting you can decrease the complexity of the network, increase the size of your training set (such as using data augmentation) or (simple possible fix) increase the amount of dropout."
   ]
  },
  {
   "cell_type": "code",
   "execution_count": 9,
   "metadata": {
    "collapsed": false
   },
   "outputs": [
    {
     "name": "stdout",
     "output_type": "stream",
     "text": [
      "Train on 10000 samples, validate on 2000 samples\n",
      "Epoch 0\n",
      "10000/10000 [==============================] - 210s - loss: 0.7232 - acc: 0.7712 - val_loss: 0.2587 - val_acc: 0.9140\n",
      "Epoch 1\n",
      "10000/10000 [==============================] - 210s - loss: 0.2411 - acc: 0.9293 - val_loss: 0.1782 - val_acc: 0.9420\n",
      "Epoch 2\n",
      "10000/10000 [==============================] - 211s - loss: 0.1582 - acc: 0.9532 - val_loss: 0.1353 - val_acc: 0.9575\n",
      "Epoch 3\n",
      "10000/10000 [==============================] - 213s - loss: 0.1292 - acc: 0.9610 - val_loss: 0.1092 - val_acc: 0.9660\n",
      "Epoch 4\n",
      "10000/10000 [==============================] - 259s - loss: 0.1021 - acc: 0.9692 - val_loss: 0.0938 - val_acc: 0.9695\n",
      "Epoch 5\n",
      "10000/10000 [==============================] - 211s - loss: 0.0944 - acc: 0.9705 - val_loss: 0.0964 - val_acc: 0.9650\n",
      "Epoch 6\n",
      "10000/10000 [==============================] - 212s - loss: 0.0724 - acc: 0.9792 - val_loss: 0.0747 - val_acc: 0.9725\n",
      "Epoch 7\n",
      "10000/10000 [==============================] - 213s - loss: 0.0642 - acc: 0.9809 - val_loss: 0.0946 - val_acc: 0.9660\n",
      "Epoch 8\n",
      "10000/10000 [==============================] - 212s - loss: 0.0548 - acc: 0.9823 - val_loss: 0.0833 - val_acc: 0.9765\n",
      "Epoch 9\n",
      "10000/10000 [==============================] - 215s - loss: 0.0504 - acc: 0.9844 - val_loss: 0.0931 - val_acc: 0.9695\n",
      "Epoch 10\n",
      "10000/10000 [==============================] - 214s - loss: 0.0422 - acc: 0.9866 - val_loss: 0.0750 - val_acc: 0.9735\n",
      "Epoch 11\n",
      "10000/10000 [==============================] - 212s - loss: 0.0362 - acc: 0.9885 - val_loss: 0.0826 - val_acc: 0.9740\n",
      "Test score: 0.0825841081203\n",
      "Test accuracy: 0.974\n"
     ]
    }
   ],
   "source": [
    "model.fit(X_train, Y_train, batch_size=batch_size, nb_epoch=nb_epoch, show_accuracy=True, verbose=1, validation_data=(X_test, Y_test))\n",
    "score = model.evaluate(X_test, Y_test, show_accuracy=True, verbose=0)\n",
    "print('Test score:', score[0])\n",
    "print('Test accuracy:', score[1])"
   ]
  },
  {
   "cell_type": "markdown",
   "metadata": {},
   "source": [
    "<b>Visualising Keras output</b>\n",
    "\n",
    "Here we plot the filters at a particular layer, once they've been <i>activated</i> by one of our test images. This shows what kind of training images the network has seen which look most like the test image."
   ]
  },
  {
   "cell_type": "code",
   "execution_count": 10,
   "metadata": {
    "collapsed": true
   },
   "outputs": [],
   "source": [
    "# utility functions\n",
    "from mpl_toolkits.axes_grid1 import make_axes_locatable\n",
    "import numpy.ma as ma\n",
    "\n",
    "def nice_imshow(ax, data, vmin=None, vmax=None, cmap=None):\n",
    "    \"\"\"Wrapper around pl.imshow\"\"\"\n",
    "    if cmap is None:\n",
    "        cmap = cm.jet\n",
    "    if vmin is None:\n",
    "        vmin = data.min()\n",
    "    if vmax is None:\n",
    "        vmax = data.max()\n",
    "    divider = make_axes_locatable(ax)\n",
    "    cax = divider.append_axes(\"right\", size=\"5%\", pad=0.05)\n",
    "    im = ax.imshow(data, vmin=vmin, vmax=vmax, interpolation='nearest', cmap=cmap)\n",
    "    plt.colorbar(im, cax=cax)\n",
    "    \n",
    "def make_mosaic(imgs, nrows, ncols, border=1):\n",
    "    \"\"\"\n",
    "    Given a set of images with all the same shape, makes a\n",
    "    mosaic with nrows and ncols\n",
    "    \"\"\"\n",
    "    nimgs = imgs.shape[0]\n",
    "    imshape = imgs.shape[1:]\n",
    "    \n",
    "    mosaic = ma.masked_all((nrows * imshape[0] + (nrows - 1) * border,\n",
    "                            ncols * imshape[1] + (ncols - 1) * border),\n",
    "                            dtype=np.float32)\n",
    "    \n",
    "    paddedh = imshape[0] + border\n",
    "    paddedw = imshape[1] + border\n",
    "    for i in xrange(nimgs):\n",
    "        row = int(np.floor(i / ncols))\n",
    "        col = i % ncols\n",
    "        \n",
    "        mosaic[row * paddedh:row * paddedh + imshape[0],\n",
    "               col * paddedw:col * paddedw + imshape[1]] = imgs[i]\n",
    "    return mosaic\n"
   ]
  },
  {
   "cell_type": "code",
   "execution_count": 13,
   "metadata": {
    "collapsed": false
   },
   "outputs": [],
   "source": [
    "convout1_f = theano.function([model.get_input(train=False)], convout1.get_output(train=False))"
   ]
  },
  {
   "cell_type": "code",
   "execution_count": 30,
   "metadata": {
    "collapsed": false
   },
   "outputs": [
    {
     "name": "stdout",
     "output_type": "stream",
     "text": [
      "C1 shape :  (32, 28, 28)\n"
     ]
    },
    {
     "data": {
      "image/png": "[encoded data removed]",
      "text/plain": [
       "<matplotlib.figure.Figure at 0x7efdd29b1850>"
      ]
     },
     "metadata": {},
     "output_type": "display_data"
    }
   ],
   "source": [
    "# Visualize convolution result (after activation)\n",
    "C1 = convout1_f(X_test[ind:ind+1])\n",
    "C1 = np.squeeze(C1)\n",
    "print(\"C1 shape : \", C1.shape)\n",
    "\n",
    "plt.figure(figsize=(15, 15))\n",
    "nice_imshow(plt.gca(), make_mosaic(C1, 6, 6), cmap='hot')"
   ]
  }
 ],
 "metadata": {
  "kernelspec": {
   "display_name": "Python 2",
   "language": "python",
   "name": "python2"
  },
  "language_info": {
   "codemirror_mode": {
    "name": "ipython",
    "version": 2
   },
   "file_extension": ".py",
   "mimetype": "text/x-python",
   "name": "python",
   "nbconvert_exporter": "python",
   "pygments_lexer": "ipython2",
   "version": "2.7.12"
  }
 },
 "nbformat": 4,
 "nbformat_minor": 0
}
